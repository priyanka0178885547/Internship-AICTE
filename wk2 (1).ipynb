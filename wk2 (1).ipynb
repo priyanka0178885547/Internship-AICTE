{
 "cells": [
  {
   "cell_type": "code",
   "execution_count": 1,
   "id": "1fb7b583-43b9-4b03-9463-006efbba5682",
   "metadata": {},
   "outputs": [],
   "source": [
    "# Importing Libraries\n",
    "import pandas as pd\n",
    "import numpy as np\n",
    "import seaborn as sns \n",
    "import matplotlib.pyplot as plt \n",
    "\n",
    "from sklearn.model_selection import train_test_split, GridSearchCV\n",
    "from sklearn.preprocessing import LabelEncoder, StandardScaler \n",
    "from sklearn.ensemble import RandomForestRegressor \n",
    "from sklearn.metrics import mean_squared_error, r2_score\n",
    "import joblib\n",
    "import os"
   ]
  },
  {
   "cell_type": "code",
   "execution_count": 2,
   "id": "88732912-4a6d-44cc-bf03-1a296aa61a31",
   "metadata": {},
   "outputs": [],
   "source": [
    "#Loading data set\n",
    "df = pd.read_csv(\"green.csv\")  "
   ]
  },
  {
   "cell_type": "code",
   "execution_count": 3,
   "id": "204b9918-69fc-483d-a200-f5baaa116bcf",
   "metadata": {},
   "outputs": [],
   "source": [
    "years = range(2010, 2017)"
   ]
  },
  {
   "cell_type": "code",
   "execution_count": 4,
   "id": "8fd246a3-01ab-415e-a92c-bcd490d62b2b",
   "metadata": {},
   "outputs": [
    {
     "data": {
      "text/plain": [
       "2010"
      ]
     },
     "execution_count": 4,
     "metadata": {},
     "output_type": "execute_result"
    }
   ],
   "source": [
    "years[0]"
   ]
  },
  {
   "cell_type": "code",
   "execution_count": 8,
   "id": "69ced828-8a49-423b-94bd-6c92a0c3374f",
   "metadata": {},
   "outputs": [
    {
     "name": "stdout",
     "output_type": "stream",
     "text": [
      "Commodity Code,Commodity Name,Substance,Unit,Supply Chain Emission Factors without Margins,Margins of Supply Chain Emission Factors,Supply Chain Emission Factors with Margins,Unnamed: 7,DQ ReliabilityScore of Factors without Margins,DQ TemporalCorrelation of Factors without Margins,DQ GeographicalCorrelation of Factors without Margins,DQ TechnologicalCorrelation of Factors without Margins,DQ DataCollection of Factors without Margins\n",
      "111CA,Farms,carbon dioxide,\"kg/2018 USD, purchaser price\",0.425,0.044,0.47,,4,2,1,4,1\n",
      "111CA,Farms,methane,\"kg/2018 USD, purchaser price\",0.023,0.0,0.023,,3,2,1,1,1\n",
      "111CA,Farms,nitrous oxide,\"kg/2018 USD, purchaser price\",0.002,0.0,0.002,,4,2,1,4,1\n",
      "111CA,Farms,other GHGs,\"kg CO2e/2018 USD, purchaser price\",0.004,0.0,0.004,,3,2,1,4,1\n",
      "113FF,\"Forestry, fishing, and related activities\",carbon dioxide,\"kg/2018 USD, purchaser price\",0.206,0.024,0.229,,4,2,1,4,1\n",
      "\n"
     ]
    }
   ],
   "source": [
    "print(df.head().to_csv(index=False))\n"
   ]
  },
  {
   "cell_type": "code",
   "execution_count": 10,
   "id": "a0a6a314-d431-4f13-975b-36650858f1a5",
   "metadata": {},
   "outputs": [
    {
     "data": {
      "text/plain": [
       "Index(['Commodity Code', 'Commodity Name', 'Substance', 'Unit',\n",
       "       'Supply Chain Emission Factors without Margins',\n",
       "       'Margins of Supply Chain Emission Factors',\n",
       "       'Supply Chain Emission Factors with Margins', 'Unnamed: 7',\n",
       "       'DQ ReliabilityScore of Factors without Margins',\n",
       "       'DQ TemporalCorrelation of Factors without Margins',\n",
       "       'DQ GeographicalCorrelation of Factors without Margins',\n",
       "       'DQ TechnologicalCorrelation of Factors without Margins',\n",
       "       'DQ DataCollection of Factors without Margins'],\n",
       "      dtype='object')"
      ]
     },
     "execution_count": 10,
     "metadata": {},
     "output_type": "execute_result"
    }
   ],
   "source": [
    "#Data Preprocessing\n",
    "df.columns"
   ]
  },
  {
   "cell_type": "code",
   "execution_count": 11,
   "id": "95c7c167-f683-44c5-8f7d-2c5204efffb6",
   "metadata": {},
   "outputs": [],
   "source": [
    "df.drop(columns=['Unnamed: 7'],inplace=True)"
   ]
  },
  {
   "cell_type": "code",
   "execution_count": 12,
   "id": "6e58a559-c140-4ee4-9d16-887691f86bb4",
   "metadata": {},
   "outputs": [
    {
     "data": {
      "text/plain": [
       "Index(['Commodity Code', 'Commodity Name', 'Substance', 'Unit',\n",
       "       'Supply Chain Emission Factors without Margins',\n",
       "       'Margins of Supply Chain Emission Factors',\n",
       "       'Supply Chain Emission Factors with Margins',\n",
       "       'DQ ReliabilityScore of Factors without Margins',\n",
       "       'DQ TemporalCorrelation of Factors without Margins',\n",
       "       'DQ GeographicalCorrelation of Factors without Margins',\n",
       "       'DQ TechnologicalCorrelation of Factors without Margins',\n",
       "       'DQ DataCollection of Factors without Margins'],\n",
       "      dtype='object')"
      ]
     },
     "execution_count": 12,
     "metadata": {},
     "output_type": "execute_result"
    }
   ],
   "source": [
    "df.columns"
   ]
  },
  {
   "cell_type": "code",
   "execution_count": 13,
   "id": "1d1fc60c-24ec-4736-a0cf-3aa1a2447817",
   "metadata": {},
   "outputs": [
    {
     "name": "stdout",
     "output_type": "stream",
     "text": [
      "<class 'pandas.core.frame.DataFrame'>\n",
      "RangeIndex: 264 entries, 0 to 263\n",
      "Data columns (total 12 columns):\n",
      " #   Column                                                  Non-Null Count  Dtype  \n",
      "---  ------                                                  --------------  -----  \n",
      " 0   Commodity Code                                          264 non-null    object \n",
      " 1   Commodity Name                                          264 non-null    object \n",
      " 2   Substance                                               264 non-null    object \n",
      " 3   Unit                                                    264 non-null    object \n",
      " 4   Supply Chain Emission Factors without Margins           264 non-null    float64\n",
      " 5   Margins of Supply Chain Emission Factors                264 non-null    float64\n",
      " 6   Supply Chain Emission Factors with Margins              264 non-null    float64\n",
      " 7   DQ ReliabilityScore of Factors without Margins          264 non-null    int64  \n",
      " 8   DQ TemporalCorrelation of Factors without Margins       264 non-null    int64  \n",
      " 9   DQ GeographicalCorrelation of Factors without Margins   264 non-null    int64  \n",
      " 10  DQ TechnologicalCorrelation of Factors without Margins  264 non-null    int64  \n",
      " 11  DQ DataCollection of Factors without Margins            264 non-null    int64  \n",
      "dtypes: float64(3), int64(5), object(4)\n",
      "memory usage: 24.9+ KB\n",
      "None\n"
     ]
    }
   ],
   "source": [
    "print(df.info())"
   ]
  },
  {
   "cell_type": "code",
   "execution_count": 14,
   "id": "b1a0d961-4bc4-4293-9c57-220b2608ff7a",
   "metadata": {},
   "outputs": [
    {
     "data": {
      "text/html": [
       "<div>\n",
       "<style scoped>\n",
       "    .dataframe tbody tr th:only-of-type {\n",
       "        vertical-align: middle;\n",
       "    }\n",
       "\n",
       "    .dataframe tbody tr th {\n",
       "        vertical-align: top;\n",
       "    }\n",
       "\n",
       "    .dataframe thead th {\n",
       "        text-align: right;\n",
       "    }\n",
       "</style>\n",
       "<table border=\"1\" class=\"dataframe\">\n",
       "  <thead>\n",
       "    <tr style=\"text-align: right;\">\n",
       "      <th></th>\n",
       "      <th>count</th>\n",
       "      <th>mean</th>\n",
       "      <th>std</th>\n",
       "      <th>min</th>\n",
       "      <th>25%</th>\n",
       "      <th>50%</th>\n",
       "      <th>75%</th>\n",
       "      <th>max</th>\n",
       "    </tr>\n",
       "  </thead>\n",
       "  <tbody>\n",
       "    <tr>\n",
       "      <th>Supply Chain Emission Factors without Margins</th>\n",
       "      <td>264.0</td>\n",
       "      <td>0.077795</td>\n",
       "      <td>0.239474</td>\n",
       "      <td>0.0</td>\n",
       "      <td>0.0</td>\n",
       "      <td>0.002</td>\n",
       "      <td>0.04325</td>\n",
       "      <td>2.914</td>\n",
       "    </tr>\n",
       "    <tr>\n",
       "      <th>Margins of Supply Chain Emission Factors</th>\n",
       "      <td>264.0</td>\n",
       "      <td>0.004057</td>\n",
       "      <td>0.022971</td>\n",
       "      <td>0.0</td>\n",
       "      <td>0.0</td>\n",
       "      <td>0.000</td>\n",
       "      <td>0.00000</td>\n",
       "      <td>0.321</td>\n",
       "    </tr>\n",
       "    <tr>\n",
       "      <th>Supply Chain Emission Factors with Margins</th>\n",
       "      <td>264.0</td>\n",
       "      <td>0.081871</td>\n",
       "      <td>0.243505</td>\n",
       "      <td>0.0</td>\n",
       "      <td>0.0</td>\n",
       "      <td>0.002</td>\n",
       "      <td>0.04350</td>\n",
       "      <td>2.914</td>\n",
       "    </tr>\n",
       "    <tr>\n",
       "      <th>DQ ReliabilityScore of Factors without Margins</th>\n",
       "      <td>264.0</td>\n",
       "      <td>3.416667</td>\n",
       "      <td>0.565708</td>\n",
       "      <td>2.0</td>\n",
       "      <td>3.0</td>\n",
       "      <td>3.000</td>\n",
       "      <td>4.00000</td>\n",
       "      <td>4.000</td>\n",
       "    </tr>\n",
       "    <tr>\n",
       "      <th>DQ TemporalCorrelation of Factors without Margins</th>\n",
       "      <td>264.0</td>\n",
       "      <td>2.000000</td>\n",
       "      <td>0.000000</td>\n",
       "      <td>2.0</td>\n",
       "      <td>2.0</td>\n",
       "      <td>2.000</td>\n",
       "      <td>2.00000</td>\n",
       "      <td>2.000</td>\n",
       "    </tr>\n",
       "    <tr>\n",
       "      <th>DQ GeographicalCorrelation of Factors without Margins</th>\n",
       "      <td>264.0</td>\n",
       "      <td>1.000000</td>\n",
       "      <td>0.000000</td>\n",
       "      <td>1.0</td>\n",
       "      <td>1.0</td>\n",
       "      <td>1.000</td>\n",
       "      <td>1.00000</td>\n",
       "      <td>1.000</td>\n",
       "    </tr>\n",
       "    <tr>\n",
       "      <th>DQ TechnologicalCorrelation of Factors without Margins</th>\n",
       "      <td>264.0</td>\n",
       "      <td>2.795455</td>\n",
       "      <td>1.250026</td>\n",
       "      <td>1.0</td>\n",
       "      <td>1.0</td>\n",
       "      <td>3.000</td>\n",
       "      <td>4.00000</td>\n",
       "      <td>5.000</td>\n",
       "    </tr>\n",
       "    <tr>\n",
       "      <th>DQ DataCollection of Factors without Margins</th>\n",
       "      <td>264.0</td>\n",
       "      <td>1.000000</td>\n",
       "      <td>0.000000</td>\n",
       "      <td>1.0</td>\n",
       "      <td>1.0</td>\n",
       "      <td>1.000</td>\n",
       "      <td>1.00000</td>\n",
       "      <td>1.000</td>\n",
       "    </tr>\n",
       "  </tbody>\n",
       "</table>\n",
       "</div>"
      ],
      "text/plain": [
       "                                                    count      mean       std  \\\n",
       "Supply Chain Emission Factors without Margins       264.0  0.077795  0.239474   \n",
       "Margins of Supply Chain Emission Factors            264.0  0.004057  0.022971   \n",
       "Supply Chain Emission Factors with Margins          264.0  0.081871  0.243505   \n",
       "DQ ReliabilityScore of Factors without Margins      264.0  3.416667  0.565708   \n",
       "DQ TemporalCorrelation of Factors without Margins   264.0  2.000000  0.000000   \n",
       "DQ GeographicalCorrelation of Factors without M...  264.0  1.000000  0.000000   \n",
       "DQ TechnologicalCorrelation of Factors without ...  264.0  2.795455  1.250026   \n",
       "DQ DataCollection of Factors without Margins        264.0  1.000000  0.000000   \n",
       "\n",
       "                                                    min  25%    50%      75%  \\\n",
       "Supply Chain Emission Factors without Margins       0.0  0.0  0.002  0.04325   \n",
       "Margins of Supply Chain Emission Factors            0.0  0.0  0.000  0.00000   \n",
       "Supply Chain Emission Factors with Margins          0.0  0.0  0.002  0.04350   \n",
       "DQ ReliabilityScore of Factors without Margins      2.0  3.0  3.000  4.00000   \n",
       "DQ TemporalCorrelation of Factors without Margins   2.0  2.0  2.000  2.00000   \n",
       "DQ GeographicalCorrelation of Factors without M...  1.0  1.0  1.000  1.00000   \n",
       "DQ TechnologicalCorrelation of Factors without ...  1.0  1.0  3.000  4.00000   \n",
       "DQ DataCollection of Factors without Margins        1.0  1.0  1.000  1.00000   \n",
       "\n",
       "                                                      max  \n",
       "Supply Chain Emission Factors without Margins       2.914  \n",
       "Margins of Supply Chain Emission Factors            0.321  \n",
       "Supply Chain Emission Factors with Margins          2.914  \n",
       "DQ ReliabilityScore of Factors without Margins      4.000  \n",
       "DQ TemporalCorrelation of Factors without Margins   2.000  \n",
       "DQ GeographicalCorrelation of Factors without M...  1.000  \n",
       "DQ TechnologicalCorrelation of Factors without ...  5.000  \n",
       "DQ DataCollection of Factors without Margins        1.000  "
      ]
     },
     "execution_count": 14,
     "metadata": {},
     "output_type": "execute_result"
    }
   ],
   "source": [
    "df.describe().T\n"
   ]
  },
  {
   "cell_type": "code",
   "execution_count": 15,
   "id": "1b709352-84a7-4fc6-b4b9-c3689510c908",
   "metadata": {},
   "outputs": [
    {
     "data": {
      "text/plain": [
       "Commodity Code                                            0\n",
       "Commodity Name                                            0\n",
       "Substance                                                 0\n",
       "Unit                                                      0\n",
       "Supply Chain Emission Factors without Margins             0\n",
       "Margins of Supply Chain Emission Factors                  0\n",
       "Supply Chain Emission Factors with Margins                0\n",
       "DQ ReliabilityScore of Factors without Margins            0\n",
       "DQ TemporalCorrelation of Factors without Margins         0\n",
       "DQ GeographicalCorrelation of Factors without Margins     0\n",
       "DQ TechnologicalCorrelation of Factors without Margins    0\n",
       "DQ DataCollection of Factors without Margins              0\n",
       "dtype: int64"
      ]
     },
     "execution_count": 15,
     "metadata": {},
     "output_type": "execute_result"
    }
   ],
   "source": [
    "df.isnull().sum()"
   ]
  },
  {
   "cell_type": "code",
   "execution_count": 20,
   "id": "83666c47-7a04-4dff-9dd3-7afdd7a0121b",
   "metadata": {},
   "outputs": [
    {
     "data": {
      "image/png": "[encoded data removed]",
      "text/plain": [
       "<Figure size 640x480 with 1 Axes>"
      ]
     },
     "metadata": {},
     "output_type": "display_data"
    }
   ],
   "source": [
    "sns.histplot(df['Supply Chain Emission Factors with Margins'], bins=20)\n",
    "plt.title('Target Variable Distribution')\n",
    "plt.show()\n"
   ]
  },
  {
   "cell_type": "code",
   "execution_count": 21,
   "id": "2029d8be-ae9c-4eb1-88ee-02e32fa982c4",
   "metadata": {},
   "outputs": [
    {
     "name": "stdout",
     "output_type": "stream",
     "text": [
      "Substance\n",
      "carbon dioxide    66\n",
      "methane           66\n",
      "nitrous oxide     66\n",
      "other GHGs        66\n",
      "Name: count, dtype: int64\n"
     ]
    }
   ],
   "source": [
    "print(df['Substance'].value_counts())"
   ]
  },
  {
   "cell_type": "code",
   "execution_count": 22,
   "id": "4bd03cc9-27a4-4b68-b96e-c4e53e05f466",
   "metadata": {},
   "outputs": [
    {
     "name": "stdout",
     "output_type": "stream",
     "text": [
      "Unit\n",
      "kg/2018 USD, purchaser price         198\n",
      "kg CO2e/2018 USD, purchaser price     66\n",
      "Name: count, dtype: int64\n"
     ]
    }
   ],
   "source": [
    "print(df['Unit'].value_counts())"
   ]
  },
  {
   "cell_type": "code",
   "execution_count": 25,
   "id": "c2a97723-7b53-444c-9954-1ca28fbe7ce8",
   "metadata": {},
   "outputs": [
    {
     "data": {
      "text/plain": [
       "array(['carbon dioxide', 'methane', 'nitrous oxide', 'other GHGs'],\n",
       "      dtype=object)"
      ]
     },
     "execution_count": 25,
     "metadata": {},
     "output_type": "execute_result"
    }
   ],
   "source": [
    "df['Substance'].unique()"
   ]
  },
  {
   "cell_type": "code",
   "execution_count": 26,
   "id": "7e3a9cf5-6be5-45ff-9f4c-91dd4795b688",
   "metadata": {},
   "outputs": [],
   "source": [
    "substance_map={'carbon dioxide':0, 'methane':1, 'nitrous oxide':2, 'other GHGs':3}"
   ]
  },
  {
   "cell_type": "code",
   "execution_count": 27,
   "id": "9500c460-11bc-4e95-a3ce-d0c507d97c6d",
   "metadata": {},
   "outputs": [],
   "source": [
    "df['Substance']=df['Substance'].map(substance_map)"
   ]
  },
  {
   "cell_type": "code",
   "execution_count": 28,
   "id": "3a3d06ac-8eed-4b9f-97d1-1ff609268565",
   "metadata": {},
   "outputs": [
    {
     "data": {
      "text/plain": [
       "array([0, 1, 2, 3], dtype=int64)"
      ]
     },
     "execution_count": 28,
     "metadata": {},
     "output_type": "execute_result"
    }
   ],
   "source": [
    "df['Substance'].unique()\n"
   ]
  },
  {
   "cell_type": "code",
   "execution_count": 29,
   "id": "f6af943f-a969-4cc4-b2fd-9260d79fcbb5",
   "metadata": {},
   "outputs": [
    {
     "name": "stdout",
     "output_type": "stream",
     "text": [
      "['kg/2018 USD, purchaser price' 'kg CO2e/2018 USD, purchaser price']\n"
     ]
    }
   ],
   "source": [
    "print(df['Unit'].unique())"
   ]
  },
  {
   "cell_type": "code",
   "execution_count": 31,
   "id": "bb253f1c-a5c4-4ca7-81d3-69c6ea07ba9e",
   "metadata": {},
   "outputs": [
    {
     "name": "stdout",
     "output_type": "stream",
     "text": [
      "['kg/2018 USD, purchaser price' 'kg CO2e/2018 USD, purchaser price']\n"
     ]
    }
   ],
   "source": [
    "print(df['Unit'].unique())"
   ]
  },
  {
   "cell_type": "code",
   "execution_count": 32,
   "id": "932a8094-8301-4c2a-83ce-9ccd4e47a131",
   "metadata": {},
   "outputs": [],
   "source": [
    "source_map={'Commodity':0, 'Industry':1}"
   ]
  },
  {
   "cell_type": "code",
   "execution_count": 34,
   "id": "51defba0-da10-411d-8562-f90e8caab70d",
   "metadata": {},
   "outputs": [
    {
     "name": "stdout",
     "output_type": "stream",
     "text": [
      "<class 'pandas.core.frame.DataFrame'>\n",
      "RangeIndex: 264 entries, 0 to 263\n",
      "Data columns (total 12 columns):\n",
      " #   Column                                                  Non-Null Count  Dtype  \n",
      "---  ------                                                  --------------  -----  \n",
      " 0   Commodity Code                                          264 non-null    object \n",
      " 1   Commodity Name                                          264 non-null    object \n",
      " 2   Substance                                               264 non-null    int64  \n",
      " 3   Unit                                                    264 non-null    object \n",
      " 4   Supply Chain Emission Factors without Margins           264 non-null    float64\n",
      " 5   Margins of Supply Chain Emission Factors                264 non-null    float64\n",
      " 6   Supply Chain Emission Factors with Margins              264 non-null    float64\n",
      " 7   DQ ReliabilityScore of Factors without Margins          264 non-null    int64  \n",
      " 8   DQ TemporalCorrelation of Factors without Margins       264 non-null    int64  \n",
      " 9   DQ GeographicalCorrelation of Factors without Margins   264 non-null    int64  \n",
      " 10  DQ TechnologicalCorrelation of Factors without Margins  264 non-null    int64  \n",
      " 11  DQ DataCollection of Factors without Margins            264 non-null    int64  \n",
      "dtypes: float64(3), int64(6), object(3)\n",
      "memory usage: 24.9+ KB\n"
     ]
    }
   ],
   "source": [
    "df.info()"
   ]
  },
  {
   "cell_type": "code",
   "execution_count": 37,
   "id": "a4c71586-4f52-4070-a9f2-db5883bc0c46",
   "metadata": {},
   "outputs": [],
   "source": [
    "X = df.drop(columns=['Supply Chain Emission Factors with Margins'])\n",
    "y = df['Supply Chain Emission Factors with Margins']"
   ]
  },
  {
   "cell_type": "code",
   "execution_count": 38,
   "id": "5691099f-cf51-4f4d-b5bc-4f7c5f610add",
   "metadata": {},
   "outputs": [
    {
     "data": {
      "image/png": "[encoded data removed]",
      "text/plain": [
       "<Figure size 600x300 with 1 Axes>"
      ]
     },
     "metadata": {},
     "output_type": "display_data"
    }
   ],
   "source": [
    "plt.figure(figsize=(6, 3))\n",
    "sns.countplot(x=df[\"Substance\"])\n",
    "plt.title(\"Count Plot: Substance\")\n",
    "plt.xticks(rotation=90)\n",
    "plt.tight_layout()\n",
    "plt.show()"
   ]
  },
  {
   "cell_type": "code",
   "execution_count": 39,
   "id": "f0a40c0e-b4c2-4789-82ab-0f604559453d",
   "metadata": {},
   "outputs": [
    {
     "data": {
      "image/png": "[encoded data removed]",
      "text/plain": [
       "<Figure size 600x300 with 1 Axes>"
      ]
     },
     "metadata": {},
     "output_type": "display_data"
    }
   ],
   "source": [
    "plt.figure(figsize=(6, 3))\n",
    "sns.countplot(x=df[\"Unit\"])\n",
    "plt.title(\"Count Plot: Unit\")\n",
    "plt.xticks(rotation=45)\n",
    "plt.tight_layout()\n",
    "plt.show()"
   ]
  },
  {
   "cell_type": "code",
   "execution_count": 41,
   "id": "6b0fdea9-3233-42b4-8f2c-36de4a61ffd4",
   "metadata": {},
   "outputs": [
    {
     "data": {
      "text/html": [
       "<div>\n",
       "<style scoped>\n",
       "    .dataframe tbody tr th:only-of-type {\n",
       "        vertical-align: middle;\n",
       "    }\n",
       "\n",
       "    .dataframe tbody tr th {\n",
       "        vertical-align: top;\n",
       "    }\n",
       "\n",
       "    .dataframe thead th {\n",
       "        text-align: right;\n",
       "    }\n",
       "</style>\n",
       "<table border=\"1\" class=\"dataframe\">\n",
       "  <thead>\n",
       "    <tr style=\"text-align: right;\">\n",
       "      <th></th>\n",
       "      <th>Substance</th>\n",
       "      <th>Supply Chain Emission Factors without Margins</th>\n",
       "      <th>Margins of Supply Chain Emission Factors</th>\n",
       "      <th>Supply Chain Emission Factors with Margins</th>\n",
       "      <th>DQ ReliabilityScore of Factors without Margins</th>\n",
       "      <th>DQ TemporalCorrelation of Factors without Margins</th>\n",
       "      <th>DQ GeographicalCorrelation of Factors without Margins</th>\n",
       "      <th>DQ TechnologicalCorrelation of Factors without Margins</th>\n",
       "      <th>DQ DataCollection of Factors without Margins</th>\n",
       "    </tr>\n",
       "  </thead>\n",
       "  <tbody>\n",
       "    <tr>\n",
       "      <th>Substance</th>\n",
       "      <td>1.000000</td>\n",
       "      <td>-0.413313</td>\n",
       "      <td>-0.236509</td>\n",
       "      <td>-0.428831</td>\n",
       "      <td>0.390020</td>\n",
       "      <td>NaN</td>\n",
       "      <td>NaN</td>\n",
       "      <td>0.450769</td>\n",
       "      <td>NaN</td>\n",
       "    </tr>\n",
       "    <tr>\n",
       "      <th>Supply Chain Emission Factors without Margins</th>\n",
       "      <td>-0.413313</td>\n",
       "      <td>1.000000</td>\n",
       "      <td>0.128893</td>\n",
       "      <td>0.995610</td>\n",
       "      <td>-0.170015</td>\n",
       "      <td>NaN</td>\n",
       "      <td>NaN</td>\n",
       "      <td>0.018239</td>\n",
       "      <td>NaN</td>\n",
       "    </tr>\n",
       "    <tr>\n",
       "      <th>Margins of Supply Chain Emission Factors</th>\n",
       "      <td>-0.236509</td>\n",
       "      <td>0.128893</td>\n",
       "      <td>1.000000</td>\n",
       "      <td>0.221138</td>\n",
       "      <td>-0.075565</td>\n",
       "      <td>NaN</td>\n",
       "      <td>NaN</td>\n",
       "      <td>0.067013</td>\n",
       "      <td>NaN</td>\n",
       "    </tr>\n",
       "    <tr>\n",
       "      <th>Supply Chain Emission Factors with Margins</th>\n",
       "      <td>-0.428831</td>\n",
       "      <td>0.995610</td>\n",
       "      <td>0.221138</td>\n",
       "      <td>1.000000</td>\n",
       "      <td>-0.174331</td>\n",
       "      <td>NaN</td>\n",
       "      <td>NaN</td>\n",
       "      <td>0.024209</td>\n",
       "      <td>NaN</td>\n",
       "    </tr>\n",
       "    <tr>\n",
       "      <th>DQ ReliabilityScore of Factors without Margins</th>\n",
       "      <td>0.390020</td>\n",
       "      <td>-0.170015</td>\n",
       "      <td>-0.075565</td>\n",
       "      <td>-0.174331</td>\n",
       "      <td>1.000000</td>\n",
       "      <td>NaN</td>\n",
       "      <td>NaN</td>\n",
       "      <td>0.336057</td>\n",
       "      <td>NaN</td>\n",
       "    </tr>\n",
       "    <tr>\n",
       "      <th>DQ TemporalCorrelation of Factors without Margins</th>\n",
       "      <td>NaN</td>\n",
       "      <td>NaN</td>\n",
       "      <td>NaN</td>\n",
       "      <td>NaN</td>\n",
       "      <td>NaN</td>\n",
       "      <td>NaN</td>\n",
       "      <td>NaN</td>\n",
       "      <td>NaN</td>\n",
       "      <td>NaN</td>\n",
       "    </tr>\n",
       "    <tr>\n",
       "      <th>DQ GeographicalCorrelation of Factors without Margins</th>\n",
       "      <td>NaN</td>\n",
       "      <td>NaN</td>\n",
       "      <td>NaN</td>\n",
       "      <td>NaN</td>\n",
       "      <td>NaN</td>\n",
       "      <td>NaN</td>\n",
       "      <td>NaN</td>\n",
       "      <td>NaN</td>\n",
       "      <td>NaN</td>\n",
       "    </tr>\n",
       "    <tr>\n",
       "      <th>DQ TechnologicalCorrelation of Factors without Margins</th>\n",
       "      <td>0.450769</td>\n",
       "      <td>0.018239</td>\n",
       "      <td>0.067013</td>\n",
       "      <td>0.024209</td>\n",
       "      <td>0.336057</td>\n",
       "      <td>NaN</td>\n",
       "      <td>NaN</td>\n",
       "      <td>1.000000</td>\n",
       "      <td>NaN</td>\n",
       "    </tr>\n",
       "    <tr>\n",
       "      <th>DQ DataCollection of Factors without Margins</th>\n",
       "      <td>NaN</td>\n",
       "      <td>NaN</td>\n",
       "      <td>NaN</td>\n",
       "      <td>NaN</td>\n",
       "      <td>NaN</td>\n",
       "      <td>NaN</td>\n",
       "      <td>NaN</td>\n",
       "      <td>NaN</td>\n",
       "      <td>NaN</td>\n",
       "    </tr>\n",
       "  </tbody>\n",
       "</table>\n",
       "</div>"
      ],
      "text/plain": [
       "                                                    Substance  \\\n",
       "Substance                                            1.000000   \n",
       "Supply Chain Emission Factors without Margins       -0.413313   \n",
       "Margins of Supply Chain Emission Factors            -0.236509   \n",
       "Supply Chain Emission Factors with Margins          -0.428831   \n",
       "DQ ReliabilityScore of Factors without Margins       0.390020   \n",
       "DQ TemporalCorrelation of Factors without Margins         NaN   \n",
       "DQ GeographicalCorrelation of Factors without M...        NaN   \n",
       "DQ TechnologicalCorrelation of Factors without ...   0.450769   \n",
       "DQ DataCollection of Factors without Margins              NaN   \n",
       "\n",
       "                                                    Supply Chain Emission Factors without Margins  \\\n",
       "Substance                                                                               -0.413313   \n",
       "Supply Chain Emission Factors without Margins                                            1.000000   \n",
       "Margins of Supply Chain Emission Factors                                                 0.128893   \n",
       "Supply Chain Emission Factors with Margins                                               0.995610   \n",
       "DQ ReliabilityScore of Factors without Margins                                          -0.170015   \n",
       "DQ TemporalCorrelation of Factors without Margins                                             NaN   \n",
       "DQ GeographicalCorrelation of Factors without M...                                            NaN   \n",
       "DQ TechnologicalCorrelation of Factors without ...                                       0.018239   \n",
       "DQ DataCollection of Factors without Margins                                                  NaN   \n",
       "\n",
       "                                                    Margins of Supply Chain Emission Factors  \\\n",
       "Substance                                                                          -0.236509   \n",
       "Supply Chain Emission Factors without Margins                                       0.128893   \n",
       "Margins of Supply Chain Emission Factors                                            1.000000   \n",
       "Supply Chain Emission Factors with Margins                                          0.221138   \n",
       "DQ ReliabilityScore of Factors without Margins                                     -0.075565   \n",
       "DQ TemporalCorrelation of Factors without Margins                                        NaN   \n",
       "DQ GeographicalCorrelation of Factors without M...                                       NaN   \n",
       "DQ TechnologicalCorrelation of Factors without ...                                  0.067013   \n",
       "DQ DataCollection of Factors without Margins                                             NaN   \n",
       "\n",
       "                                                    Supply Chain Emission Factors with Margins  \\\n",
       "Substance                                                                            -0.428831   \n",
       "Supply Chain Emission Factors without Margins                                         0.995610   \n",
       "Margins of Supply Chain Emission Factors                                              0.221138   \n",
       "Supply Chain Emission Factors with Margins                                            1.000000   \n",
       "DQ ReliabilityScore of Factors without Margins                                       -0.174331   \n",
       "DQ TemporalCorrelation of Factors without Margins                                          NaN   \n",
       "DQ GeographicalCorrelation of Factors without M...                                         NaN   \n",
       "DQ TechnologicalCorrelation of Factors without ...                                    0.024209   \n",
       "DQ DataCollection of Factors without Margins                                               NaN   \n",
       "\n",
       "                                                    DQ ReliabilityScore of Factors without Margins  \\\n",
       "Substance                                                                                 0.390020   \n",
       "Supply Chain Emission Factors without Margins                                            -0.170015   \n",
       "Margins of Supply Chain Emission Factors                                                 -0.075565   \n",
       "Supply Chain Emission Factors with Margins                                               -0.174331   \n",
       "DQ ReliabilityScore of Factors without Margins                                            1.000000   \n",
       "DQ TemporalCorrelation of Factors without Margins                                              NaN   \n",
       "DQ GeographicalCorrelation of Factors without M...                                             NaN   \n",
       "DQ TechnologicalCorrelation of Factors without ...                                        0.336057   \n",
       "DQ DataCollection of Factors without Margins                                                   NaN   \n",
       "\n",
       "                                                    DQ TemporalCorrelation of Factors without Margins  \\\n",
       "Substance                                                                                         NaN   \n",
       "Supply Chain Emission Factors without Margins                                                     NaN   \n",
       "Margins of Supply Chain Emission Factors                                                          NaN   \n",
       "Supply Chain Emission Factors with Margins                                                        NaN   \n",
       "DQ ReliabilityScore of Factors without Margins                                                    NaN   \n",
       "DQ TemporalCorrelation of Factors without Margins                                                 NaN   \n",
       "DQ GeographicalCorrelation of Factors without M...                                                NaN   \n",
       "DQ TechnologicalCorrelation of Factors without ...                                                NaN   \n",
       "DQ DataCollection of Factors without Margins                                                      NaN   \n",
       "\n",
       "                                                    DQ GeographicalCorrelation of Factors without Margins  \\\n",
       "Substance                                                                                         NaN       \n",
       "Supply Chain Emission Factors without Margins                                                     NaN       \n",
       "Margins of Supply Chain Emission Factors                                                          NaN       \n",
       "Supply Chain Emission Factors with Margins                                                        NaN       \n",
       "DQ ReliabilityScore of Factors without Margins                                                    NaN       \n",
       "DQ TemporalCorrelation of Factors without Margins                                                 NaN       \n",
       "DQ GeographicalCorrelation of Factors without M...                                                NaN       \n",
       "DQ TechnologicalCorrelation of Factors without ...                                                NaN       \n",
       "DQ DataCollection of Factors without Margins                                                      NaN       \n",
       "\n",
       "                                                    DQ TechnologicalCorrelation of Factors without Margins  \\\n",
       "Substance                                                                                    0.450769        \n",
       "Supply Chain Emission Factors without Margins                                                0.018239        \n",
       "Margins of Supply Chain Emission Factors                                                     0.067013        \n",
       "Supply Chain Emission Factors with Margins                                                   0.024209        \n",
       "DQ ReliabilityScore of Factors without Margins                                               0.336057        \n",
       "DQ TemporalCorrelation of Factors without Margins                                                 NaN        \n",
       "DQ GeographicalCorrelation of Factors without M...                                                NaN        \n",
       "DQ TechnologicalCorrelation of Factors without ...                                           1.000000        \n",
       "DQ DataCollection of Factors without Margins                                                      NaN        \n",
       "\n",
       "                                                    DQ DataCollection of Factors without Margins  \n",
       "Substance                                                                                    NaN  \n",
       "Supply Chain Emission Factors without Margins                                                NaN  \n",
       "Margins of Supply Chain Emission Factors                                                     NaN  \n",
       "Supply Chain Emission Factors with Margins                                                   NaN  \n",
       "DQ ReliabilityScore of Factors without Margins                                               NaN  \n",
       "DQ TemporalCorrelation of Factors without Margins                                            NaN  \n",
       "DQ GeographicalCorrelation of Factors without M...                                           NaN  \n",
       "DQ TechnologicalCorrelation of Factors without ...                                           NaN  \n",
       "DQ DataCollection of Factors without Margins                                                 NaN  "
      ]
     },
     "execution_count": 41,
     "metadata": {},
     "output_type": "execute_result"
    }
   ],
   "source": [
    "df.select_dtypes(include=np.number).corr()"
   ]
  },
  {
   "cell_type": "code",
   "execution_count": 42,
   "id": "b6fdf6ff-35fd-464f-9510-8bd0ad973ea2",
   "metadata": {},
   "outputs": [
    {
     "name": "stdout",
     "output_type": "stream",
     "text": [
      "<class 'pandas.core.frame.DataFrame'>\n",
      "RangeIndex: 264 entries, 0 to 263\n",
      "Data columns (total 12 columns):\n",
      " #   Column                                                  Non-Null Count  Dtype  \n",
      "---  ------                                                  --------------  -----  \n",
      " 0   Commodity Code                                          264 non-null    object \n",
      " 1   Commodity Name                                          264 non-null    object \n",
      " 2   Substance                                               264 non-null    int64  \n",
      " 3   Unit                                                    264 non-null    object \n",
      " 4   Supply Chain Emission Factors without Margins           264 non-null    float64\n",
      " 5   Margins of Supply Chain Emission Factors                264 non-null    float64\n",
      " 6   Supply Chain Emission Factors with Margins              264 non-null    float64\n",
      " 7   DQ ReliabilityScore of Factors without Margins          264 non-null    int64  \n",
      " 8   DQ TemporalCorrelation of Factors without Margins       264 non-null    int64  \n",
      " 9   DQ GeographicalCorrelation of Factors without Margins   264 non-null    int64  \n",
      " 10  DQ TechnologicalCorrelation of Factors without Margins  264 non-null    int64  \n",
      " 11  DQ DataCollection of Factors without Margins            264 non-null    int64  \n",
      "dtypes: float64(3), int64(6), object(3)\n",
      "memory usage: 24.9+ KB\n"
     ]
    }
   ],
   "source": [
    "df.info()"
   ]
  },
  {
   "cell_type": "code",
   "execution_count": 43,
   "id": "6b446d45-f100-4203-a233-6ff28c61758d",
   "metadata": {},
   "outputs": [
    {
     "data": {
      "image/png": "[encoded data removed]",
      "text/plain": [
       "<Figure size 1200x800 with 2 Axes>"
      ]
     },
     "metadata": {},
     "output_type": "display_data"
    }
   ],
   "source": [
    "plt.figure(figsize=(12, 8))\n",
    "sns.heatmap(df.select_dtypes(include=np.number).corr(), annot=True, cmap=\"coolwarm\")\n",
    "plt.title(\"Correlation Heatmap\")\n",
    "plt.show()"
   ]
  },
  {
   "cell_type": "code",
   "execution_count": 49,
   "id": "b44e9351-e404-4fe4-b336-cc6fecaf15c9",
   "metadata": {},
   "outputs": [
    {
     "name": "stdout",
     "output_type": "stream",
     "text": [
      "X_train shape: (211, 12)\n",
      "y_train shape: (211,)\n",
      "Any NaN in X_train? True\n",
      "Any NaN in y_train? False\n",
      "y_train type: float64\n"
     ]
    }
   ],
   "source": [
    "# Sanity checks\n",
    "print(\"X_train shape:\", X_train.shape)\n",
    "print(\"y_train shape:\", y_train.shape)\n",
    "print(\"Any NaN in X_train?\", X_train.isnull().values.any())\n",
    "print(\"Any NaN in y_train?\", y_train.isnull().values.any())\n",
    "print(\"y_train type:\", y_train.dtype)\n"
   ]
  },
  {
   "cell_type": "code",
   "execution_count": 58,
   "id": "df7537d0-755b-42d6-9cac-fc50cf32c492",
   "metadata": {},
   "outputs": [
    {
     "name": "stdout",
     "output_type": "stream",
     "text": [
      "Non-numeric columns: ['Commodity Code', 'Commodity Name', 'Substance', 'Unit']\n",
      "\n",
      "Unique values in 'Commodity Code':\n",
      "['111CA' '113FF' '211' '212' '213' '22' '23' '311FT' '313TT' '315AL' '321'\n",
      " '322' '323' '324' '325' '326' '327' '331' '332' '333' '334' '335'\n",
      " '3361MV' '3364OT' '337' '339' '42' '441' '445' '452' '481' '482' '483'\n",
      " '484' '485' '486' '487OS' '493' '4A0' '511' '512' '513' '514' '521CI'\n",
      " '523' '524' '525' '532RL' '5411' '5412OP' '5415' '55' '561' '562' '61'\n",
      " '621' '622' '623' '624' '711AS' '713' '721' '722' '81' 'HS' 'ORE']\n",
      "\n",
      "Unique values in 'Commodity Name':\n",
      "['Farms' 'Forestry, fishing, and related activities'\n",
      " 'Oil and gas extraction' 'Mining, except oil and gas'\n",
      " 'Support activities for mining' 'Utilities' 'Construction'\n",
      " 'Food and beverage and tobacco products'\n",
      " 'Textile mills and textile product mills'\n",
      " 'Apparel and leather and allied products' 'Wood products'\n",
      " 'Paper products' 'Printing and related support activities'\n",
      " 'Petroleum and coal products' 'Chemical products'\n",
      " 'Plastics and rubber products' 'Nonmetallic mineral products'\n",
      " 'Primary metals' 'Fabricated metal products' 'Machinery'\n",
      " 'Computer and electronic products'\n",
      " 'Electrical equipment, appliances, and components'\n",
      " 'Motor vehicles, bodies and trailers, and parts'\n",
      " 'Other transportation equipment' 'Furniture and related products'\n",
      " 'Miscellaneous manufacturing' 'Wholesale trade'\n",
      " 'Motor vehicle and parts dealers' 'Food and beverage stores'\n",
      " 'General merchandise stores' 'Air transportation' 'Rail transportation'\n",
      " 'Water transportation' 'Truck transportation'\n",
      " 'Transit and ground passenger transportation' 'Pipeline transportation'\n",
      " 'Other transportation and support activities' 'Warehousing and storage'\n",
      " 'Other retail'\n",
      " 'Publishing industries, except internet (includes software)'\n",
      " 'Motion picture and sound recording industries'\n",
      " 'Broadcasting and telecommunications'\n",
      " 'Data processing, internet publishing, and other information services'\n",
      " 'Federal Reserve banks, credit intermediation, and related activities'\n",
      " 'Securities, commodity contracts, and investments'\n",
      " 'Insurance carriers and related activities'\n",
      " 'Funds, trusts, and other financial vehicles'\n",
      " 'Rental and leasing services and lessors of intangible assets'\n",
      " 'Legal services'\n",
      " 'Miscellaneous professional, scientific, and technical services'\n",
      " 'Computer systems design and related services'\n",
      " 'Management of companies and enterprises'\n",
      " 'Administrative and support services'\n",
      " 'Waste management and remediation services' 'Educational services'\n",
      " 'Ambulatory health care services' 'Hospitals'\n",
      " 'Nursing and residential care facilities' 'Social assistance'\n",
      " 'Performing arts, spectator sports, museums, and related activities'\n",
      " 'Amusements, gambling, and recreation industries' 'Accommodation'\n",
      " 'Food services and drinking places' 'Other services, except government'\n",
      " 'Housing' 'Other real estate']\n",
      "\n",
      "Unique values in 'Substance':\n",
      "['carbon dioxide' 'methane' 'nitrous oxide' 'other GHGs']\n",
      "\n",
      "Unique values in 'Unit':\n",
      "['kg/2018 USD, purchaser price' 'kg CO2e/2018 USD, purchaser price']\n"
     ]
    }
   ],
   "source": [
    "import pandas as pd\n",
    "\n",
    "# Load your normalized CSV file (or original if this is before normalization)\n",
    "df = pd.read_csv('green.csv')  # or use your actual file\n",
    "\n",
    "# Check which columns are non-numeric\n",
    "non_numeric_cols = df.select_dtypes(include=['object']).columns\n",
    "print(\"Non-numeric columns:\", non_numeric_cols.tolist())\n",
    "\n",
    "# Look inside them\n",
    "for col in non_numeric_cols:\n",
    "    print(f\"\\nUnique values in '{col}':\")\n",
    "    print(df[col].unique())\n"
   ]
  },
  {
   "cell_type": "code",
   "execution_count": 59,
   "id": "a1e9c214-bf94-48c4-88d8-e76263e749e3",
   "metadata": {},
   "outputs": [],
   "source": [
    "model = RandomForestRegressor(random_state=42)"
   ]
  },
  {
   "cell_type": "code",
   "execution_count": 63,
   "id": "6205fecf-5865-4af2-9fe3-1eb086cbb41a",
   "metadata": {},
   "outputs": [
    {
     "name": "stdout",
     "output_type": "stream",
     "text": [
      "Actual,Predicted\n",
      "0.063,0.08921\n",
      "0.0,0.0\n",
      "0.0,0.0\n",
      "0.002,0.0020000000000000013\n",
      "0.001,0.0010000000000000007\n",
      "\n"
     ]
    }
   ],
   "source": [
    "\n",
    "# Select numeric columns\n",
    "features = df[[\n",
    "    'Supply Chain Emission Factors without Margins',\n",
    "    'Margins of Supply Chain Emission Factors',\n",
    "    'DQ ReliabilityScore of Factors without Margins',\n",
    "    'DQ TemporalCorrelation of Factors without Margins',\n",
    "    'DQ GeographicalCorrelation of Factors without Margins',\n",
    "    'DQ TechnologicalCorrelation of Factors without Margins',\n",
    "    'DQ DataCollection of Factors without Margins',\n",
    "    'Supply Chain Emission Factors with Margins'\n",
    "]].dropna()\n",
    "\n",
    "# X and y split\n",
    "X = features.drop(columns=['Supply Chain Emission Factors with Margins'])\n",
    "y = features['Supply Chain Emission Factors with Margins']\n",
    "\n",
    "# Normalize\n",
    "scaler = StandardScaler()\n",
    "X_scaled = scaler.fit_transform(X)\n",
    "\n",
    "# Split data\n",
    "X_train, X_test, y_train, y_test = train_test_split(X_scaled, y, test_size=0.2, random_state=42)\n",
    "\n",
    "# Train model\n",
    "model = RandomForestRegressor(random_state=42)\n",
    "model.fit(X_train, y_train)\n",
    "\n",
    "# Predict\n",
    "y_pred = model.predict(X_test)\n",
    "\n",
    "# Combine and display in CSV-like format\n",
    "results = pd.DataFrame({\n",
    "    'Actual': y_test.values,\n",
    "    'Predicted': y_pred\n",
    "})\n",
    "\n",
    "# Print first few rows as CSV-style text\n",
    "print(results.head().to_csv(index=False))\n"
   ]
  },
  {
   "cell_type": "code",
   "execution_count": 65,
   "id": "b80f9683-f795-4287-b1fd-26ca69318410",
   "metadata": {},
   "outputs": [
    {
     "data": {
      "text/html": [
       "<style>#sk-container-id-1 {\n",
       "  /* Definition of color scheme common for light and dark mode */\n",
       "  --sklearn-color-text: black;\n",
       "  --sklearn-color-line: gray;\n",
       "  /* Definition of color scheme for unfitted estimators */\n",
       "  --sklearn-color-unfitted-level-0: #fff5e6;\n",
       "  --sklearn-color-unfitted-level-1: #f6e4d2;\n",
       "  --sklearn-color-unfitted-level-2: #ffe0b3;\n",
       "  --sklearn-color-unfitted-level-3: chocolate;\n",
       "  /* Definition of color scheme for fitted estimators */\n",
       "  --sklearn-color-fitted-level-0: #f0f8ff;\n",
       "  --sklearn-color-fitted-level-1: #d4ebff;\n",
       "  --sklearn-color-fitted-level-2: #b3dbfd;\n",
       "  --sklearn-color-fitted-level-3: cornflowerblue;\n",
       "\n",
       "  /* Specific color for light theme */\n",
       "  --sklearn-color-text-on-default-background: var(--sg-text-color, var(--theme-code-foreground, var(--jp-content-font-color1, black)));\n",
       "  --sklearn-color-background: var(--sg-background-color, var(--theme-background, var(--jp-layout-color0, white)));\n",
       "  --sklearn-color-border-box: var(--sg-text-color, var(--theme-code-foreground, var(--jp-content-font-color1, black)));\n",
       "  --sklearn-color-icon: #696969;\n",
       "\n",
       "  @media (prefers-color-scheme: dark) {\n",
       "    /* Redefinition of color scheme for dark theme */\n",
       "    --sklearn-color-text-on-default-background: var(--sg-text-color, var(--theme-code-foreground, var(--jp-content-font-color1, white)));\n",
       "    --sklearn-color-background: var(--sg-background-color, var(--theme-background, var(--jp-layout-color0, #111)));\n",
       "    --sklearn-color-border-box: var(--sg-text-color, var(--theme-code-foreground, var(--jp-content-font-color1, white)));\n",
       "    --sklearn-color-icon: #878787;\n",
       "  }\n",
       "}\n",
       "\n",
       "#sk-container-id-1 {\n",
       "  color: var(--sklearn-color-text);\n",
       "}\n",
       "\n",
       "#sk-container-id-1 pre {\n",
       "  padding: 0;\n",
       "}\n",
       "\n",
       "#sk-container-id-1 input.sk-hidden--visually {\n",
       "  border: 0;\n",
       "  clip: rect(1px 1px 1px 1px);\n",
       "  clip: rect(1px, 1px, 1px, 1px);\n",
       "  height: 1px;\n",
       "  margin: -1px;\n",
       "  overflow: hidden;\n",
       "  padding: 0;\n",
       "  position: absolute;\n",
       "  width: 1px;\n",
       "}\n",
       "\n",
       "#sk-container-id-1 div.sk-dashed-wrapped {\n",
       "  border: 1px dashed var(--sklearn-color-line);\n",
       "  margin: 0 0.4em 0.5em 0.4em;\n",
       "  box-sizing: border-box;\n",
       "  padding-bottom: 0.4em;\n",
       "  background-color: var(--sklearn-color-background);\n",
       "}\n",
       "\n",
       "#sk-container-id-1 div.sk-container {\n",
       "  /* jupyter's `normalize.less` sets `[hidden] { display: none; }`\n",
       "     but bootstrap.min.css set `[hidden] { display: none !important; }`\n",
       "     so we also need the `!important` here to be able to override the\n",
       "     default hidden behavior on the sphinx rendered scikit-learn.org.\n",
       "     See: https://github.com/scikit-learn/scikit-learn/issues/21755 */\n",
       "  display: inline-block !important;\n",
       "  position: relative;\n",
       "}\n",
       "\n",
       "#sk-container-id-1 div.sk-text-repr-fallback {\n",
       "  display: none;\n",
       "}\n",
       "\n",
       "div.sk-parallel-item,\n",
       "div.sk-serial,\n",
       "div.sk-item {\n",
       "  /* draw centered vertical line to link estimators */\n",
       "  background-image: linear-gradient(var(--sklearn-color-text-on-default-background), var(--sklearn-color-text-on-default-background));\n",
       "  background-size: 2px 100%;\n",
       "  background-repeat: no-repeat;\n",
       "  background-position: center center;\n",
       "}\n",
       "\n",
       "/* Parallel-specific style estimator block */\n",
       "\n",
       "#sk-container-id-1 div.sk-parallel-item::after {\n",
       "  content: \"\";\n",
       "  width: 100%;\n",
       "  border-bottom: 2px solid var(--sklearn-color-text-on-default-background);\n",
       "  flex-grow: 1;\n",
       "}\n",
       "\n",
       "#sk-container-id-1 div.sk-parallel {\n",
       "  display: flex;\n",
       "  align-items: stretch;\n",
       "  justify-content: center;\n",
       "  background-color: var(--sklearn-color-background);\n",
       "  position: relative;\n",
       "}\n",
       "\n",
       "#sk-container-id-1 div.sk-parallel-item {\n",
       "  display: flex;\n",
       "  flex-direction: column;\n",
       "}\n",
       "\n",
       "#sk-container-id-1 div.sk-parallel-item:first-child::after {\n",
       "  align-self: flex-end;\n",
       "  width: 50%;\n",
       "}\n",
       "\n",
       "#sk-container-id-1 div.sk-parallel-item:last-child::after {\n",
       "  align-self: flex-start;\n",
       "  width: 50%;\n",
       "}\n",
       "\n",
       "#sk-container-id-1 div.sk-parallel-item:only-child::after {\n",
       "  width: 0;\n",
       "}\n",
       "\n",
       "/* Serial-specific style estimator block */\n",
       "\n",
       "#sk-container-id-1 div.sk-serial {\n",
       "  display: flex;\n",
       "  flex-direction: column;\n",
       "  align-items: center;\n",
       "  background-color: var(--sklearn-color-background);\n",
       "  padding-right: 1em;\n",
       "  padding-left: 1em;\n",
       "}\n",
       "\n",
       "\n",
       "/* Toggleable style: style used for estimator/Pipeline/ColumnTransformer box that is\n",
       "clickable and can be expanded/collapsed.\n",
       "- Pipeline and ColumnTransformer use this feature and define the default style\n",
       "- Estimators will overwrite some part of the style using the `sk-estimator` class\n",
       "*/\n",
       "\n",
       "/* Pipeline and ColumnTransformer style (default) */\n",
       "\n",
       "#sk-container-id-1 div.sk-toggleable {\n",
       "  /* Default theme specific background. It is overwritten whether we have a\n",
       "  specific estimator or a Pipeline/ColumnTransformer */\n",
       "  background-color: var(--sklearn-color-background);\n",
       "}\n",
       "\n",
       "/* Toggleable label */\n",
       "#sk-container-id-1 label.sk-toggleable__label {\n",
       "  cursor: pointer;\n",
       "  display: block;\n",
       "  width: 100%;\n",
       "  margin-bottom: 0;\n",
       "  padding: 0.5em;\n",
       "  box-sizing: border-box;\n",
       "  text-align: center;\n",
       "}\n",
       "\n",
       "#sk-container-id-1 label.sk-toggleable__label-arrow:before {\n",
       "  /* Arrow on the left of the label */\n",
       "  content: \"▸\";\n",
       "  float: left;\n",
       "  margin-right: 0.25em;\n",
       "  color: var(--sklearn-color-icon);\n",
       "}\n",
       "\n",
       "#sk-container-id-1 label.sk-toggleable__label-arrow:hover:before {\n",
       "  color: var(--sklearn-color-text);\n",
       "}\n",
       "\n",
       "/* Toggleable content - dropdown */\n",
       "\n",
       "#sk-container-id-1 div.sk-toggleable__content {\n",
       "  max-height: 0;\n",
       "  max-width: 0;\n",
       "  overflow: hidden;\n",
       "  text-align: left;\n",
       "  /* unfitted */\n",
       "  background-color: var(--sklearn-color-unfitted-level-0);\n",
       "}\n",
       "\n",
       "#sk-container-id-1 div.sk-toggleable__content.fitted {\n",
       "  /* fitted */\n",
       "  background-color: var(--sklearn-color-fitted-level-0);\n",
       "}\n",
       "\n",
       "#sk-container-id-1 div.sk-toggleable__content pre {\n",
       "  margin: 0.2em;\n",
       "  border-radius: 0.25em;\n",
       "  color: var(--sklearn-color-text);\n",
       "  /* unfitted */\n",
       "  background-color: var(--sklearn-color-unfitted-level-0);\n",
       "}\n",
       "\n",
       "#sk-container-id-1 div.sk-toggleable__content.fitted pre {\n",
       "  /* unfitted */\n",
       "  background-color: var(--sklearn-color-fitted-level-0);\n",
       "}\n",
       "\n",
       "#sk-container-id-1 input.sk-toggleable__control:checked~div.sk-toggleable__content {\n",
       "  /* Expand drop-down */\n",
       "  max-height: 200px;\n",
       "  max-width: 100%;\n",
       "  overflow: auto;\n",
       "}\n",
       "\n",
       "#sk-container-id-1 input.sk-toggleable__control:checked~label.sk-toggleable__label-arrow:before {\n",
       "  content: \"▾\";\n",
       "}\n",
       "\n",
       "/* Pipeline/ColumnTransformer-specific style */\n",
       "\n",
       "#sk-container-id-1 div.sk-label input.sk-toggleable__control:checked~label.sk-toggleable__label {\n",
       "  color: var(--sklearn-color-text);\n",
       "  background-color: var(--sklearn-color-unfitted-level-2);\n",
       "}\n",
       "\n",
       "#sk-container-id-1 div.sk-label.fitted input.sk-toggleable__control:checked~label.sk-toggleable__label {\n",
       "  background-color: var(--sklearn-color-fitted-level-2);\n",
       "}\n",
       "\n",
       "/* Estimator-specific style */\n",
       "\n",
       "/* Colorize estimator box */\n",
       "#sk-container-id-1 div.sk-estimator input.sk-toggleable__control:checked~label.sk-toggleable__label {\n",
       "  /* unfitted */\n",
       "  background-color: var(--sklearn-color-unfitted-level-2);\n",
       "}\n",
       "\n",
       "#sk-container-id-1 div.sk-estimator.fitted input.sk-toggleable__control:checked~label.sk-toggleable__label {\n",
       "  /* fitted */\n",
       "  background-color: var(--sklearn-color-fitted-level-2);\n",
       "}\n",
       "\n",
       "#sk-container-id-1 div.sk-label label.sk-toggleable__label,\n",
       "#sk-container-id-1 div.sk-label label {\n",
       "  /* The background is the default theme color */\n",
       "  color: var(--sklearn-color-text-on-default-background);\n",
       "}\n",
       "\n",
       "/* On hover, darken the color of the background */\n",
       "#sk-container-id-1 div.sk-label:hover label.sk-toggleable__label {\n",
       "  color: var(--sklearn-color-text);\n",
       "  background-color: var(--sklearn-color-unfitted-level-2);\n",
       "}\n",
       "\n",
       "/* Label box, darken color on hover, fitted */\n",
       "#sk-container-id-1 div.sk-label.fitted:hover label.sk-toggleable__label.fitted {\n",
       "  color: var(--sklearn-color-text);\n",
       "  background-color: var(--sklearn-color-fitted-level-2);\n",
       "}\n",
       "\n",
       "/* Estimator label */\n",
       "\n",
       "#sk-container-id-1 div.sk-label label {\n",
       "  font-family: monospace;\n",
       "  font-weight: bold;\n",
       "  display: inline-block;\n",
       "  line-height: 1.2em;\n",
       "}\n",
       "\n",
       "#sk-container-id-1 div.sk-label-container {\n",
       "  text-align: center;\n",
       "}\n",
       "\n",
       "/* Estimator-specific */\n",
       "#sk-container-id-1 div.sk-estimator {\n",
       "  font-family: monospace;\n",
       "  border: 1px dotted var(--sklearn-color-border-box);\n",
       "  border-radius: 0.25em;\n",
       "  box-sizing: border-box;\n",
       "  margin-bottom: 0.5em;\n",
       "  /* unfitted */\n",
       "  background-color: var(--sklearn-color-unfitted-level-0);\n",
       "}\n",
       "\n",
       "#sk-container-id-1 div.sk-estimator.fitted {\n",
       "  /* fitted */\n",
       "  background-color: var(--sklearn-color-fitted-level-0);\n",
       "}\n",
       "\n",
       "/* on hover */\n",
       "#sk-container-id-1 div.sk-estimator:hover {\n",
       "  /* unfitted */\n",
       "  background-color: var(--sklearn-color-unfitted-level-2);\n",
       "}\n",
       "\n",
       "#sk-container-id-1 div.sk-estimator.fitted:hover {\n",
       "  /* fitted */\n",
       "  background-color: var(--sklearn-color-fitted-level-2);\n",
       "}\n",
       "\n",
       "/* Specification for estimator info (e.g. \"i\" and \"?\") */\n",
       "\n",
       "/* Common style for \"i\" and \"?\" */\n",
       "\n",
       ".sk-estimator-doc-link,\n",
       "a:link.sk-estimator-doc-link,\n",
       "a:visited.sk-estimator-doc-link {\n",
       "  float: right;\n",
       "  font-size: smaller;\n",
       "  line-height: 1em;\n",
       "  font-family: monospace;\n",
       "  background-color: var(--sklearn-color-background);\n",
       "  border-radius: 1em;\n",
       "  height: 1em;\n",
       "  width: 1em;\n",
       "  text-decoration: none !important;\n",
       "  margin-left: 1ex;\n",
       "  /* unfitted */\n",
       "  border: var(--sklearn-color-unfitted-level-1) 1pt solid;\n",
       "  color: var(--sklearn-color-unfitted-level-1);\n",
       "}\n",
       "\n",
       ".sk-estimator-doc-link.fitted,\n",
       "a:link.sk-estimator-doc-link.fitted,\n",
       "a:visited.sk-estimator-doc-link.fitted {\n",
       "  /* fitted */\n",
       "  border: var(--sklearn-color-fitted-level-1) 1pt solid;\n",
       "  color: var(--sklearn-color-fitted-level-1);\n",
       "}\n",
       "\n",
       "/* On hover */\n",
       "div.sk-estimator:hover .sk-estimator-doc-link:hover,\n",
       ".sk-estimator-doc-link:hover,\n",
       "div.sk-label-container:hover .sk-estimator-doc-link:hover,\n",
       ".sk-estimator-doc-link:hover {\n",
       "  /* unfitted */\n",
       "  background-color: var(--sklearn-color-unfitted-level-3);\n",
       "  color: var(--sklearn-color-background);\n",
       "  text-decoration: none;\n",
       "}\n",
       "\n",
       "div.sk-estimator.fitted:hover .sk-estimator-doc-link.fitted:hover,\n",
       ".sk-estimator-doc-link.fitted:hover,\n",
       "div.sk-label-container:hover .sk-estimator-doc-link.fitted:hover,\n",
       ".sk-estimator-doc-link.fitted:hover {\n",
       "  /* fitted */\n",
       "  background-color: var(--sklearn-color-fitted-level-3);\n",
       "  color: var(--sklearn-color-background);\n",
       "  text-decoration: none;\n",
       "}\n",
       "\n",
       "/* Span, style for the box shown on hovering the info icon */\n",
       ".sk-estimator-doc-link span {\n",
       "  display: none;\n",
       "  z-index: 9999;\n",
       "  position: relative;\n",
       "  font-weight: normal;\n",
       "  right: .2ex;\n",
       "  padding: .5ex;\n",
       "  margin: .5ex;\n",
       "  width: min-content;\n",
       "  min-width: 20ex;\n",
       "  max-width: 50ex;\n",
       "  color: var(--sklearn-color-text);\n",
       "  box-shadow: 2pt 2pt 4pt #999;\n",
       "  /* unfitted */\n",
       "  background: var(--sklearn-color-unfitted-level-0);\n",
       "  border: .5pt solid var(--sklearn-color-unfitted-level-3);\n",
       "}\n",
       "\n",
       ".sk-estimator-doc-link.fitted span {\n",
       "  /* fitted */\n",
       "  background: var(--sklearn-color-fitted-level-0);\n",
       "  border: var(--sklearn-color-fitted-level-3);\n",
       "}\n",
       "\n",
       ".sk-estimator-doc-link:hover span {\n",
       "  display: block;\n",
       "}\n",
       "\n",
       "/* \"?\"-specific style due to the `<a>` HTML tag */\n",
       "\n",
       "#sk-container-id-1 a.estimator_doc_link {\n",
       "  float: right;\n",
       "  font-size: 1rem;\n",
       "  line-height: 1em;\n",
       "  font-family: monospace;\n",
       "  background-color: var(--sklearn-color-background);\n",
       "  border-radius: 1rem;\n",
       "  height: 1rem;\n",
       "  width: 1rem;\n",
       "  text-decoration: none;\n",
       "  /* unfitted */\n",
       "  color: var(--sklearn-color-unfitted-level-1);\n",
       "  border: var(--sklearn-color-unfitted-level-1) 1pt solid;\n",
       "}\n",
       "\n",
       "#sk-container-id-1 a.estimator_doc_link.fitted {\n",
       "  /* fitted */\n",
       "  border: var(--sklearn-color-fitted-level-1) 1pt solid;\n",
       "  color: var(--sklearn-color-fitted-level-1);\n",
       "}\n",
       "\n",
       "/* On hover */\n",
       "#sk-container-id-1 a.estimator_doc_link:hover {\n",
       "  /* unfitted */\n",
       "  background-color: var(--sklearn-color-unfitted-level-3);\n",
       "  color: var(--sklearn-color-background);\n",
       "  text-decoration: none;\n",
       "}\n",
       "\n",
       "#sk-container-id-1 a.estimator_doc_link.fitted:hover {\n",
       "  /* fitted */\n",
       "  background-color: var(--sklearn-color-fitted-level-3);\n",
       "}\n",
       "</style><div id=\"sk-container-id-1\" class=\"sk-top-container\"><div class=\"sk-text-repr-fallback\"><pre>RandomForestRegressor(random_state=42)</pre><b>In a Jupyter environment, please rerun this cell to show the HTML representation or trust the notebook. <br />On GitHub, the HTML representation is unable to render, please try loading this page with nbviewer.org.</b></div><div class=\"sk-container\" hidden><div class=\"sk-item\"><div class=\"sk-estimator fitted sk-toggleable\"><input class=\"sk-toggleable__control sk-hidden--visually\" id=\"sk-estimator-id-1\" type=\"checkbox\" checked><label for=\"sk-estimator-id-1\" class=\"sk-toggleable__label fitted sk-toggleable__label-arrow fitted\">&nbsp;&nbsp;RandomForestRegressor<a class=\"sk-estimator-doc-link fitted\" rel=\"noreferrer\" target=\"_blank\" href=\"https://scikit-learn.org/1.5/modules/generated/sklearn.ensemble.RandomForestRegressor.html\">?<span>Documentation for RandomForestRegressor</span></a><span class=\"sk-estimator-doc-link fitted\">i<span>Fitted</span></span></label><div class=\"sk-toggleable__content fitted\"><pre>RandomForestRegressor(random_state=42)</pre></div> </div></div></div></div>"
      ],
      "text/plain": [
       "RandomForestRegressor(random_state=42)"
      ]
     },
     "execution_count": 65,
     "metadata": {},
     "output_type": "execute_result"
    }
   ],
   "source": [
    "model.fit(X_train, y_train)\n"
   ]
  },
  {
   "cell_type": "code",
   "execution_count": 66,
   "id": "21563d77-36aa-4f2d-a551-adbf3d3601fc",
   "metadata": {},
   "outputs": [],
   "source": [
    "y_pred = model.predict(X_test)"
   ]
  },
  {
   "cell_type": "code",
   "execution_count": 67,
   "id": "f1042bef-d033-466a-abfc-887ff7a0e18a",
   "metadata": {},
   "outputs": [
    {
     "name": "stdout",
     "output_type": "stream",
     "text": [
      "RMSE: 0.018515214489510972\n",
      "R² Score: 0.9867374460209026\n"
     ]
    }
   ],
   "source": [
    "mse = mean_squared_error(y_test, y_pred)\n",
    "rmse = np.sqrt(mse)\n",
    "r2 = r2_score(y_test, y_pred)\n",
    "\n",
    "print(f'RMSE: {rmse}')\n",
    "print(f'R² Score: {r2}')"
   ]
  },
  {
   "cell_type": "code",
   "execution_count": null,
   "id": "7add39fc-1910-4104-ac22-2578d6e43f84",
   "metadata": {},
   "outputs": [],
   "source": []
  }
 ],
 "metadata": {
  "kernelspec": {
   "display_name": "Python 3 (ipykernel)",
   "language": "python",
   "name": "python3"
  },
  "language_info": {
   "codemirror_mode": {
    "name": "ipython",
    "version": 3
   },
   "file_extension": ".py",
   "mimetype": "text/x-python",
   "name": "python",
   "nbconvert_exporter": "python",
   "pygments_lexer": "ipython3",
   "version": "3.12.7"
  }
 },
 "nbformat": 4,
 "nbformat_minor": 5
}
